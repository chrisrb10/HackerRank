{
 "cells": [
  {
   "cell_type": "code",
   "execution_count": null,
   "metadata": {},
   "outputs": [],
   "source": []
  },
  {
   "cell_type": "markdown",
   "metadata": {},
   "source": [
    "## Matrix Layer Rotation\n",
    "#### Hard"
   ]
  },
  {
   "cell_type": "code",
   "execution_count": 10,
   "metadata": {},
   "outputs": [],
   "source": [
    "def left_rotation(seq, d):\n",
    "    # shifts elements in array (seq) d elements to the left\n",
    "    retval = [seq[i-(len(seq)-d)] for i in range(len(seq))]\n",
    "    return retval\n",
    "\n",
    "\n",
    "def rotate_loop(loop_list, rotations):\n",
    "    # rotates items defining a loop 'rotations x' anticlockwise\n",
    "    rot_apply = rotations % len(loop_list)\n",
    "    retval = left_rotation(loop_list,rot_apply)\n",
    "    return retval\n",
    "\n",
    "\n",
    "def get_loops(m,n, loops):\n",
    "    # define (i,j) coordinate lists of concentric 'loops'in matrix m x n\n",
    "    i_tl, j_tl, i_br, j_br = 0,0,m-1,n-1\n",
    "    loop_arrays = []\n",
    "    loop_count = 1\n",
    "\n",
    "    while loop_count <= loops:\n",
    "        loop, top, rhs, bottom, lhs = [], [],[],[],[]\n",
    "        top = [(i,j) for j in range(j_tl, j_br+1) for i in range(i_tl,i_tl+1)]\n",
    "        rhs = [(i,j) for i in range(i_tl+1,i_br+1) for j in range(j_br,j_br+1)]\n",
    "        bottom = [(i,j) for j in reversed(range(j_tl, j_br)) for i in range(i_br,i_br+1)]\n",
    "        lhs = [(i,j) for i in reversed(range(i_tl+1,i_br)) for j in range(j_tl,j_tl+1)]\n",
    "        loop = top+rhs+bottom+lhs\n",
    "        loop_arrays.append(loop)\n",
    "        loop_count+=1\n",
    "        i_tl += 1\n",
    "        j_tl += 1\n",
    "        i_br -= 1\n",
    "        j_br -= 1\n",
    "\n",
    "    return loop_arrays\n",
    "\n",
    "\n",
    "def matrixRotation(matrix, r):\n",
    "    m = len(matrix)\n",
    "    n = len(matrix[0])\n",
    "    loops = int(min(m, n)/2)\n",
    "    newmat = [[0 for x in range(n)] for y in range (m)]\n",
    "    \n",
    "    # get loops and rotate\n",
    "    loop_coords = get_loops(m,n,loops)\n",
    "    rotated_coords = [rotate_loop(loop, r) for loop in loop_coords]\n",
    "    \n",
    "    # set values of new mat from rotated coords ref to mat\n",
    "    for orig, rotd in zip(loop_coords, rotated_coords):\n",
    "        for mat_ij, ref_ij in zip(orig, rotd):\n",
    "            newmat[mat_ij[0]][mat_ij[1]] = matrix[ref_ij[0]][ref_ij[1]]\n",
    "            \n",
    "    return newmat\n",
    "    "
   ]
  },
  {
   "cell_type": "code",
   "execution_count": 11,
   "metadata": {},
   "outputs": [],
   "source": [
    "mat_test = [[1, 2, 3, 4],\n",
    "       [7, 8, 9, 10],\n",
    "       [13, 14, 15, 16],\n",
    "       [19, 20, 21, 22],\n",
    "       [25, 26, 27, 28]]"
   ]
  },
  {
   "cell_type": "code",
   "execution_count": 15,
   "metadata": {},
   "outputs": [
    {
     "name": "stdout",
     "output_type": "stream",
     "text": [
      "3 4 10 16\n",
      "2 15 21 22\n",
      "1 9 20 28\n",
      "7 8 14 27\n",
      "13 19 25 26\n"
     ]
    }
   ],
   "source": [
    "newmat = matrixRotation(mat_test,2)\n",
    "for row in newmat:\n",
    "        print(\" \".join([str(c) for c in row]))"
   ]
  }
 ],
 "metadata": {
  "kernelspec": {
   "display_name": "Python [default]",
   "language": "python",
   "name": "python3"
  },
  "language_info": {
   "codemirror_mode": {
    "name": "ipython",
    "version": 3
   },
   "file_extension": ".py",
   "mimetype": "text/x-python",
   "name": "python",
   "nbconvert_exporter": "python",
   "pygments_lexer": "ipython3",
   "version": "3.6.0"
  }
 },
 "nbformat": 4,
 "nbformat_minor": 2
}
